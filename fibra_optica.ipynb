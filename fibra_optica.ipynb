{
 "cells": [
  {
   "cell_type": "markdown",
   "metadata": {},
   "source": [
    "# Fibra optica \n",
    "## $ Refraccion$ y $reflexion$"
   ]
  },
  {
   "cell_type": "code",
   "execution_count": 42,
   "metadata": {},
   "outputs": [
    {
     "data": {
      "image/png": "[encoded data removed]",
      "text/plain": [
       "<Figure size 432x288 with 1 Axes>"
      ]
     },
     "metadata": {
      "needs_background": "light"
     },
     "output_type": "display_data"
    }
   ],
   "source": [
    "%matplotlib inline\n",
    "import numpy as np\n",
    "import matplotlib.pyplot as plt\n",
    "import matplotlib.lines as line\n",
    "pi = np.pi\n",
    "# plt.plot([0, 1, 2, 3], [-2, 2,-2,2])\n",
    "line.Line2D([0, 3], [-2, 2], linewidth=3)\n",
    "plt.ylabel('Eje Y')\n",
    "plt.xlabel('Eje X')\n",
    "\n",
    "\n",
    "\n",
    "plt.show()"
   ]
  },
  {
   "cell_type": "code",
   "execution_count": 105,
   "metadata": {},
   "outputs": [
    {
     "name": "stdout",
     "output_type": "stream",
     "text": [
      "[[0. 0.]\n",
      " [2. 4.]]\n",
      "2.0\n",
      "1.5\n"
     ]
    },
    {
     "name": "stderr",
     "output_type": "stream",
     "text": [
      "/home/frnncs/.local/lib/python3.6/site-packages/ipykernel_launcher.py:112: MatplotlibDeprecationWarning: Adding an axes using the same arguments as a previous axes currently reuses the earlier instance.  In a future version, a new instance will always be created and returned.  Meanwhile, this warning can be suppressed, and the future behavior ensured, by passing a unique label to each axes instance.\n"
     ]
    },
    {
     "data": {
      "image/png": "[encoded data removed]",
      "text/plain": [
       "<Figure size 432x288 with 1 Axes>"
      ]
     },
     "metadata": {
      "needs_background": "light"
     },
     "output_type": "display_data"
    }
   ],
   "source": [
    "import matplotlib.pyplot as plt\n",
    "from matplotlib.lines import Line2D    \n",
    "import math\n",
    "from matplotlib.patches import Arc\n",
    "\n",
    "\n",
    "def get_angle_plot(line1, line2, offset = 1, color = None, origin = [2,2], len_x_axis = 1, len_y_axis = 1):\n",
    "\n",
    "    l1xy = line1.get_xydata()\n",
    "\n",
    "    # Angle between line1 and x-axis\n",
    "    \n",
    "    print(l1xy)\n",
    "    \n",
    "    a = l1xy[1][1] \n",
    "    b = l1xy[0][1]\n",
    "    c = l1xy[1][0]\n",
    "    d = l1xy[0][0]\n",
    "\n",
    "    slope1 = (a - b) / float(c - d)\n",
    "    angle1 = abs(math.degrees(math.atan(slope1))) # Taking only the positive angle\n",
    "\n",
    "    l2xy = line2.get_xydata()\n",
    "\n",
    "    # Angle between line2 and x-axis\n",
    "    slope2 = (l2xy[1][1] - l2xy[0][1]) / float(l2xy[1][0] - l2xy[0][0])\n",
    "    angle2 = abs(math.degrees(math.atan(slope2)))\n",
    "\n",
    "    theta1 = min(angle1, angle2)\n",
    "    theta2 = max(angle1, angle2)\n",
    "\n",
    "    angle = theta2 - theta1\n",
    "\n",
    "    if color is None:\n",
    "        color = line1.get_color() # Uses the color of line 1 if color parameter is not passed.\n",
    "\n",
    "    return Arc(origin, len_x_axis*offset, len_y_axis*offset, 0, theta1, theta2, color=color, label = str(angle)+u\"\\u00b0\")\n",
    "\n",
    "\n",
    "\n",
    "\n",
    "\n",
    "def get_angle_text(angle_plot):\n",
    "    angle = angle_plot.get_label()[:-1] # Excluding the degree symbol\n",
    "    angle = \"%0.2f\"%float(angle)+u\"\\u00b0\" # Display angle upto 2 decimal places\n",
    "\n",
    "    # Get the vertices of the angle arc\n",
    "    vertices = angle_plot.get_verts()\n",
    "\n",
    "    # Get the midpoint of the arc extremes\n",
    "    x_width = (vertices[0][0] + vertices[-1][0]) / 2.0\n",
    "    print(x_width)\n",
    "    y_width = (vertices[0][1] + vertices[-1][1]) / 2.0\n",
    "    print(y_width)\n",
    "\n",
    "    #print x_width, y_width\n",
    "\n",
    "    separation_radius = max(x_width/2.0, y_width/2.0)\n",
    "\n",
    "    return [ x_width + separation_radius, y_width + separation_radius, angle]\n",
    "\n",
    "\n",
    "\n",
    "  \n",
    "\n",
    "# Figura\n",
    "fig = plt.figure()\n",
    "\n",
    "# Cuadro\n",
    "ax = fig.add_subplot(111)\n",
    "\n",
    "# Limites de lo que seria el cable\n",
    "\n",
    "\"\"\"\n",
    "plt.axhspan(-2, 2, facecolor='0.5', alpha=0.4)\n",
    "plt.axhspan(2, 3, facecolor='#2ca02c', alpha=0.4)\n",
    "plt.axhspan(-2, -3, facecolor='#2ca02c', alpha=0.4)\n",
    "\"\"\"\n",
    "\n",
    "\"\"\"\n",
    "x1 = [0, 1, 2]\n",
    "y1 = [-2, 0, 2]\n",
    "line1 = Line2D(x1, y1)\n",
    "ax.add_line(line1)\n",
    "\n",
    "x2 = [2, 3, 4]\n",
    "y2 = [2, 0, -2]\n",
    "line2 = Line2D(x2, y2)\n",
    "ax.add_line(line2)\n",
    "\n",
    "\n",
    "\n",
    "ax.set_xlim(min(x), max(x) +5)\n",
    "\n",
    "\n",
    "ax.set_ylim(min(y) - 2, max(y) + 2)\n",
    "\n",
    "\n",
    "\n",
    "angle = get_angle_plot(line2, line1)\n",
    "ax.add_patch(angle)\n",
    "\n",
    "\n",
    "\n",
    "\n",
    "\n",
    "\"\"\"\n",
    "\n",
    "line_1 = Line2D([0,2], [0,4], linewidth=1, linestyle = \"-\", color=\"green\")\n",
    "line_2 = Line2D([2,4], [4,0], linewidth=1, linestyle = \"-\", color=\"red\")\n",
    "\n",
    "ax = fig.add_subplot(1,1,1)\n",
    "\n",
    "ax.add_line(line_1)\n",
    "ax.add_line(line_2)\n",
    "\n",
    "angle_plot = get_angle_plot(line_1, line_2, 1)\n",
    "angle_text = get_angle_text(angle_plot) \n",
    "# Gets the arguments to be passed to ax.text as a list to display the angle value besides the arc\n",
    "\n",
    "ax.add_patch(angle_plot) # To display the angle arc\n",
    "ax.text(*angle_text) # To display the angle value\n",
    "\n",
    "ax.set_xlim(0,7)\n",
    "ax.set_ylim(0,5)\n",
    "\n",
    "\n",
    "\n",
    "\n",
    "\n",
    "\n",
    "plt.legend()\n",
    "\n",
    "plt.show()"
   ]
  },
  {
   "cell_type": "code",
   "execution_count": null,
   "metadata": {},
   "outputs": [],
   "source": []
  }
 ],
 "metadata": {
  "kernelspec": {
   "display_name": "Python 3",
   "language": "python",
   "name": "python3"
  },
  "language_info": {
   "codemirror_mode": {
    "name": "ipython",
    "version": 3
   },
   "file_extension": ".py",
   "mimetype": "text/x-python",
   "name": "python",
   "nbconvert_exporter": "python",
   "pygments_lexer": "ipython3",
   "version": "3.5.2"
  }
 },
 "nbformat": 4,
 "nbformat_minor": 4
}
