{
 "cells": [
  {
   "cell_type": "markdown",
   "metadata": {},
   "source": [
    "# Ejercicio de Optica\n",
    "## • Fisica en la transmision a travez de una fibra optica"
   ]
  },
  {
   "cell_type": "markdown",
   "metadata": {},
   "source": [
    "### Ejercicio:\n",
    "####     Una fibra tiene un índice de refracción de 1.6 para el núcleo y 1.4 para el revestimiento. Si el rayo incidente toca la frontera con un ángulo de incidencia de 30º, calcule el ángulo derefracción con el que se desvía el rayo en el revestimiento. ###"
   ]
  },
  {
   "cell_type": "markdown",
   "metadata": {},
   "source": [
    "# Snell's Law"
   ]
  },
  {
   "cell_type": "markdown",
   "metadata": {},
   "source": [
    "### \\begin{eqnarray}\n",
    "    µ_1 \\sin\\delta_1 &=&  \\sin\\delta_2 \\\\\n",
    "    \\sin\\delta_1 &=& µ_2/µ_1 \\sin\\delta_2 \\\\\n",
    "    \\delta_1 &=& \\arcsin (µ_2/µ_1 \\sin\\delta_2) \\\\\n",
    "\\end{eqnarray}\n",
    "## El angulo critico se calcula para \n",
    "### \\begin{eqnarray}\n",
    "\\delta_2 &=& 90 \n",
    "\\end{eqnarray}\n",
    "## Por lo tanto \n",
    "### \\begin{eqnarray}\n",
    "\\delta_1 &=& \\arcsin (µ_2/µ_1 \\sin90)\\\\\n",
    "\\delta_1 &=& \\arcsin (µ_2/µ_1)\\\\\n",
    "\\end{eqnarray}"
   ]
  },
  {
   "cell_type": "markdown",
   "metadata": {},
   "source": [
    "## Datos:\n",
    "### \\begin{eqnarray}\n",
    "µ_1 &=& 1.6 \\\\\n",
    "µ_2 &=& 1.4 \\\\\n",
    "α &=& 30° \\\\\n",
    "\\\\\n",
    "\\delta_1 &=& \\arcsin (1.4/4.6) = 17.71° \\\\\n",
    "\\end{eqnarray}"
   ]
  },
  {
   "cell_type": "markdown",
   "metadata": {},
   "source": [
    "#### Importo las librerias necesarias"
   ]
  },
  {
   "cell_type": "code",
   "execution_count": 187,
   "metadata": {},
   "outputs": [],
   "source": [
    "import matplotlib.pyplot as plt\n",
    "from matplotlib.lines import Line2D    \n",
    "import math\n",
    "from matplotlib.patches import Arc  \n",
    "from matplotlib.widgets import Slider, Button, RadioButtons"
   ]
  },
  {
   "cell_type": "markdown",
   "metadata": {},
   "source": [
    "#### Defino las constantes que vamos a usar"
   ]
  },
  {
   "cell_type": "code",
   "execution_count": 306,
   "metadata": {},
   "outputs": [],
   "source": [
    "ejex = 0\n",
    "ejey = 0\n",
    "core_radio = 2\n",
    "cladding_radio = 3\n",
    "cable_long = 20\n",
    "core_u = 1.6\n",
    "cladding_u = 1.4\n",
    "angle_ray = 30"
   ]
  },
  {
   "cell_type": "markdown",
   "metadata": {},
   "source": [
    "#### Defino los objetos y las funciones que voy a necesitar"
   ]
  },
  {
   "cell_type": "code",
   "execution_count": 295,
   "metadata": {},
   "outputs": [],
   "source": [
    "class Linea:\n",
    "    def __init__(self, cable, angle, point, color):\n",
    "        self.cable = cable\n",
    "        self.angle = angle\n",
    "        self.x0 = point[0]\n",
    "        self.y0 = point[1]\n",
    "\n",
    "        if point[1] < core_radio and point[1] > -core_radio:\n",
    "            if angle == 0:\n",
    "                self.xf = 50\n",
    "                self.yf = 0\n",
    "            else:\n",
    "                # Si el inicio es en el core\n",
    "                if angle > 0:\n",
    "                    self.yf = core_radio\n",
    "                if angle < 0:\n",
    "                    self.yf = -core_radio\n",
    "                self.xf = core_radio/math.tan(math.radians(angle))\n",
    "\n",
    "\n",
    "        elif point[1] == core_radio:\n",
    "            if angle <= self.cable.get_angulo_critico():\n",
    "                # Rebota\n",
    "                self.yf = -core_radio\n",
    "                self.xf = point[0] + math.fabs((core_radio + core_radio)/ math.tan(math.radians(angle)))\n",
    "                self.angle = -angle\n",
    "            else:\n",
    "                # Refracta\n",
    "                self.yf = cladding_radio\n",
    "                self.xf = point[0] + math.fabs(core_radio / math.tan(math.radians(self.cable.angulo_refraccion(angle))))\n",
    "                self.angle = self.cable.angulo_refraccion(angle)\n",
    "\n",
    "        elif point[1] == -core_radio:\n",
    "            if angle <= self.cable.get_angulo_critico():\n",
    "                # Rebota\n",
    "                self.yf = core_radio\n",
    "                self.xf = point[0] + math.fabs((core_radio + core_radio)/ math.tan(math.radians(angle)))\n",
    "                self.angle = -angle\n",
    "            else:\n",
    "                # Refracta\n",
    "                self.yf = -cladding_radio\n",
    "                self.xf = point[0] + math.fabs(core_radio / math.tan(math.radians(self.cable.angulo_refraccion(angle))))\n",
    "                self.angle = self.cable.angulo_refraccion(angle)\n",
    "            \n",
    "        self.color = color\n",
    "        self.draw_line()\n",
    "\n",
    "    def draw_line(self):\n",
    "        ax.add_line(Line2D([self.x0, self.xf], [self.y0, self.yf], color=self.color))\n",
    "\n",
    "    def rebotar(self, cable):\n",
    "        if self.angle > 0 and self.angle < 180 and self.angle > cable.get_angulo_critico():\n",
    "            new_line = Linea(cable.angulo_refraccion(self.angle), [self.xf, self.yf], 'blue')\n",
    "        else:\n",
    "            new_line = Linea(self.angle, [self.xf, self.yf], 'green')\n",
    "        return new_line\n",
    "\n",
    "class Cable:\n",
    "    def __init__(self, core_radio, cladding_radio, core_u, cladding_u,  core_color='0.5', cladding_color='#2ca02c'):\n",
    "        self.core_radio = core_radio\n",
    "        self.cladding_radio = cladding_radio\n",
    "        self.core_color = core_color\n",
    "        self.cladding_color = cladding_color\n",
    "        self.core_u = core_u\n",
    "        self.cladding_u = cladding_u\n",
    "\n",
    "    def draw_cable(self):\n",
    "        plt.axhspan(self.core_radio*(-1), self.core_radio, xmin=0, xmax=1, facecolor=self.core_color, alpha=0.4)\n",
    "        plt.axhspan(self.core_radio, self.cladding_radio, xmin=0, xmax=1, facecolor=self.cladding_color, alpha=0.4)\n",
    "        plt.axhspan(self.core_radio*(-1), self.cladding_radio*(-1), xmin=0, xmax=1, facecolor='#2ca02c', alpha=0.4)\n",
    "    \n",
    "        \n",
    "    def angulo_refraccion(self, angle):\n",
    "        return 90-math.degrees(math.asin(math.sin(math.radians(90 - angle)) * (self.core_u/self.cladding_u)))\n",
    "\n",
    "        \n",
    "    def get_angulo_critico(self):\n",
    "        return 90 - math.degrees(math.asin((self.cladding_u/self.core_u)))\n",
    "    \n",
    "    def draw_critic_line(self):\n",
    "        linea_critica = Linea(self, self.get_angulo_critico(), [0,0], 'green')\n",
    "\n",
    "\n",
    "\n",
    "class Grafico:\n",
    "    def __init__(self, x0, y0, xf, yf):\n",
    "        self.x0 = x0\n",
    "        self.y0 = y0\n",
    "        self.xf = xf\n",
    "        self.yf = yf\n",
    "    \n",
    "    def draw_grafico(self):\n",
    "        ax.set_aspect('equal')\n",
    "        ax.set_aspect('auto')\n",
    "        ax.set_xlim(self.x0, self.xf)\n",
    "        ax.set_ylim(self.y0, self.yf)\n",
    "        plt.grid(True)"
   ]
  },
  {
   "cell_type": "markdown",
   "metadata": {},
   "source": [
    "# Manos a la obra"
   ]
  },
  {
   "cell_type": "code",
   "execution_count": 300,
   "metadata": {},
   "outputs": [
    {
     "data": {
      "image/png": "[encoded data removed]",
      "text/plain": [
       "<Figure size 432x288 with 1 Axes>"
      ]
     },
     "metadata": {
      "needs_background": "light"
     },
     "output_type": "display_data"
    }
   ],
   "source": [
    "# Inicializo el grafico\n",
    "fig = plt.figure()\n",
    "ax = fig.add_subplot(111)\n",
    "\n",
    "# Dibujo el grafico\n",
    "grafico = Grafico(-2, -5, 12, 5)\n",
    "grafico.draw_grafico()\n",
    "\n",
    "# Dibujo el cable\n",
    "cable = Cable(core_radio, cladding_radio, core_u=core_u, cladding_u=cladding_u)\n",
    "cable.draw_cable()\n",
    "cable.draw_critic_line()\n",
    "\n",
    "linea_nueva = Linea(cable, angle_ray, [0,0], 'blue')\n",
    "\n",
    "linea_nueva_refrac = Linea(cable, linea_nueva.angle , [linea_nueva.xf, linea_nueva.yf], 'orange')\n",
    "if not linea_nueva_refrac.angle > 0:\n",
    "    linea_nueva_refrac2 = Linea(cable, linea_nueva_refrac.angle , [linea_nueva_refrac.xf, linea_nueva_refrac.yf], 'orange')\n",
    "\n",
    "# Genero el grafico\n",
    "\n",
    "ax.plot(0 , 0, label='Linea')\n",
    "ax.plot(0 , 0, label='Reflexion')\n",
    "ax.plot(0 , 0, label='Critico:' + str(cable.get_angulo_critico()) + '°')\n",
    "\n",
    "plt.title('Fiber optic Cable')\n",
    "ax.legend()\n",
    "plt.show()"
   ]
  },
  {
   "cell_type": "markdown",
   "metadata": {},
   "source": [
    "#### Cuando no supera el angulo critico, se ve como refracta en un angulo menor al que tenia de incidencia.\n",
    "#### Si utilizamos un angulo de incidencia menor (20°), al superarlo, se produce una completa reflexion interna, por lo que el rayo de luz rebota"
   ]
  },
  {
   "cell_type": "code",
   "execution_count": 305,
   "metadata": {},
   "outputs": [
    {
     "name": "stdout",
     "output_type": "stream",
     "text": [
      "Angulo de entrada critico: 28.955024371859857\n"
     ]
    },
    {
     "data": {
      "image/png": "[encoded data removed]",
      "text/plain": [
       "<Figure size 432x288 with 1 Axes>"
      ]
     },
     "metadata": {
      "needs_background": "light"
     },
     "output_type": "display_data"
    }
   ],
   "source": [
    "# Inicializo el grafico\n",
    "fig = plt.figure()\n",
    "ax = fig.add_subplot(111)\n",
    "\n",
    "# Dibujo el grafico\n",
    "grafico = Grafico(0, -10, 100, 10)\n",
    "grafico.draw_grafico()\n",
    "\n",
    "# Dibujo el cable\n",
    "cable = Cable(core_radio, cladding_radio, core_u=core_u, cladding_u=cladding_u)\n",
    "print('Angulo de entrada critico:', cable.get_angulo_critico())\n",
    "cable.draw_cable()\n",
    "cable.draw_critic_line()\n",
    "\n",
    "\n",
    "linea_nueva = Linea(cable, 20, [0,0], 'blue')\n",
    "\n",
    "linea_nueva_refrac = Linea(cable, linea_nueva.angle , [linea_nueva.xf, linea_nueva.yf], 'orange')\n",
    "if not linea_nueva_refrac.angle > 0:\n",
    "    \n",
    "        x_inicial = linea_nueva_refrac.xf\n",
    "        y_inicial = linea_nueva_refrac.yf\n",
    "        angulo_inicial = linea_nueva_refrac.angle\n",
    "        while x_inicial < 100:\n",
    "            linea_nueva_refrac_aux = Linea(cable, angulo_inicial , [x_inicial, y_inicial], 'orange')\n",
    "            x_inicial =linea_nueva_refrac_aux.xf\n",
    "            y_inicial = linea_nueva_refrac_aux.yf\n",
    "            angulo_inicial = linea_nueva_refrac_aux.angle\n",
    "\n",
    "\n",
    "            \n",
    "            \n",
    "ax.plot(0 , 0, label='Linea')\n",
    "ax.plot(0 , 0, label='Reflexion')\n",
    "ax.plot(0 , 0, label='Critico')\n",
    "\n",
    "plt.title('Fiber optic Cable')\n",
    "ax.legend()\n",
    "\n",
    "# Genero el grafico\n",
    "plt.show()"
   ]
  },
  {
   "cell_type": "markdown",
   "metadata": {},
   "source": [
    " #### Fuentes\n",
    "\n",
    " - http://www.ciscopress.com/articles/article.asp?p=170740\n",
    "\n",
    " - https://www.youtube.com/watch?v=pTakwkDtBDw\n",
    "\n",
    " - https://www.youtube.com/watch?v=MrJswUU143M\n",
    "\n",
    " - https://www.youtube.com/watch?v=02wPSDOXMhc\n",
    "\n",
    " - https://www.samm.com/calculating-fiber-loss-and-maximum-distance-estimates\n",
    "\n",
    " - https://www.youtube.com/watch?v=W8uoqsEWX1M\n",
    "\n",
    " - https://www.seas.es/blog/automatizacion/reflexion-y-refraccion-de-la-luz-en-transmisiones-de-fibra-optica/"
   ]
  }
 ],
 "metadata": {
  "kernelspec": {
   "display_name": "Python 3",
   "language": "python",
   "name": "python3"
  },
  "language_info": {
   "codemirror_mode": {
    "name": "ipython",
    "version": 3
   },
   "file_extension": ".py",
   "mimetype": "text/x-python",
   "name": "python",
   "nbconvert_exporter": "python",
   "pygments_lexer": "ipython3",
   "version": "3.6.9"
  }
 },
 "nbformat": 4,
 "nbformat_minor": 4
}
